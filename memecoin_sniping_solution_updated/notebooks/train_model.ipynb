
{
 "cells": [
  {
   "cell_type": "markdown",
   "metadata": {},
   "source": [
    "# Notebook de Exemplo para Treinamento de Modelo"
   ]
  },
  {
   "cell_type": "code",
   "execution_count": null,
   "metadata": {},
   "outputs": [],
   "source": [
    "import pandas as pd\n",
    "from sklearn.model_selection import train_test_split\n",
    "from sklearn.ensemble import RandomForestClassifier\n",
    "from sklearn.metrics import accuracy_score\n",
    "import xgboost as xgb\n",
    "import os\n",
    "import joblib\n",
    "\n",
    "# Definir caminhos\n",
    "current_dir = os.path.dirname(os.path.abspath(""))\n",
    "input_file = os.path.join(current_dir, \"..\", \"optimizer\", \"processed\", \"sample_features.parquet\")\n",
    "output_model_file = os.path.join(current_dir, \"..\", \"models\", \"trained_model.joblib\")\n",
    "\n",
    "# Criar diretório para modelos se não existir\n",
    "os.makedirs(os.path.dirname(output_model_file), exist_ok=True)\n",
    "\n",
    "# Carregar dados processados\n",
    "try:\n",
    "    df = pd.read_parquet(input_file)\n",
    "    print(\"Dados carregados com sucesso:\")\n",
    "    print(df.head())\n",
    "except FileNotFoundError:\n",
    "    print(f\"Erro: Arquivo de dados processados não encontrado em {input_file}. Por favor, execute o notebook de ETL primeiro.\")\n",
    "    # Criar dados de exemplo para continuar o notebook se o arquivo não for encontrado\n",
    "    print(\"Gerando dados sintéticos para demonstração.\")\n",
    "    df = pd.DataFrame({\n",
    "        \"feature1\": [1, 2, 3, 4, 5, 6, 7, 8, 9, 10],\n",
    "        \"feature2\": [10, 20, 30, 40, 50, 60, 70, 80, 90, 100],\n",
    "        \"target\": [0, 1, 0, 1, 0, 1, 0, 1, 0, 1]\n",
    "    })\n",
    "\n",
    "X = df.drop(\"target\", axis=1)\n",
    "y = df[\"target\"]\n",
    "\n",
    "X_train, X_test, y_train, y_test = train_test_split(X, y, test_size=0.2, random_state=42)\n",
    "\n",
    "# Treinar RandomForestClassifier\n",
    "print(\"Treinando RandomForestClassifier...\")\n",
    "rf_model = RandomForestClassifier(n_estimators=100, random_state=42)\n",
    "rf_model.fit(X_train, y_train)\n",
    "rf_predictions = rf_model.predict(X_test)\n",
    "print(f\"Acurácia do RandomForest: {accuracy_score(y_test, rf_predictions)}\")\n",
    "\n",
    "# Treinar XGBoostClassifier\n",
    "print(\"Treinando XGBoostClassifier...\")\n",
    "xgb_model = xgb.XGBClassifier(n_estimators=100, use_label_encoder=False, eval_metric=\'logloss\', random_state=42)\n",
    "xgb_model.fit(X_train, y_train)\n",
    "xgb_predictions = xgb_model.predict(X_test)\n",
    "print(f\"Acurácia do XGBoost: {accuracy_score(y_test, xgb_predictions)}\")\n",
    "\n",
    "# Salvar um dos modelos (ex: RandomForest)\n",
    "joblib.dump(rf_model, output_model_file)\n",
    "print(f\"Modelo salvo em: {output_model_file}\")"
   ]
  }
 ],
 "metadata": {
  "kernelspec": {
   "display_name": "Python 3",
   "language": "python",
   "name": "python3"
  },
  "language_info": {
   "codemirror_mode": {
    "name": "ipython",
    "version": 3
   },
   "file_extension": ".py",
   "mimetype": "text/x-python",
   "name": "python",
   "nbconvert_exporter": "python",
   "pygments_lexer": "ipython3",
   "version": "3.11.0rc1"
  }
 },
 "nbformat": 4,
 "nbformat_minor": 4
}

