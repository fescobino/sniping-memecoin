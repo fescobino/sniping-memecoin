
{
 "cells": [
  {
   "cell_type": "markdown",
   "metadata": {},
   "source": [
    "# Notebook de Exemplo para Processamento ETL"
   ]
  },
  {
   "cell_type": "code",
   "execution_count": null,
   "metadata": {},
   "outputs": [],
   "source": [
    "import pandas as pd\n",
    "import os\n",
    "from etl.process_data import process_data\n",
    "\n",
    "# Definir caminhos\n",
    "current_dir = os.path.dirname(os.path.abspath(""))\n",
    "input_file = os.path.join(current_dir, \"..\", \"optimizer\", \"raw\", \"sample_data.csv\")\n",
    "output_file = os.path.join(current_dir, \"..\", \"optimizer\", \"processed\", \"sample_features.parquet\")\n",
    "\n",
    "# Criar um arquivo CSV de exemplo se não existir (para rodar o notebook independentemente)\n",
    "if not os.path.exists(input_file):\n",
    "    print(f\"Criando arquivo de exemplo: {input_file}\")\n",
    "    sample_df = pd.DataFrame({\n",
    "        \"feature1\": [1, 2, 3, 4, 5],\n",
    "        \"feature2\": [10, 20, 30, 40, 50],\n",
    "        \"target\": [0, 1, 0, 1, 0]\n",
    "    })\n",
    "    os.makedirs(os.path.dirname(input_file), exist_ok=True)\n",
    "    sample_df.to_csv(input_file, index=False)\n",
    "\n",
    "# Processar os dados\n",
    "process_data(input_file, output_file)\n",
    "\n",
    "# Carregar e exibir os dados processados para verificação\n",
    "processed_df = pd.read_parquet(output_file)\n",
    "print(\"Dados Processados:\")\n",
    "print(processed_df.head())"
   ]
  }
 ],
 "metadata": {
  "kernelspec": {
   "display_name": "Python 3",
   "language": "python",
   "name": "python3"
  },
  "language_info": {
   "codemirror_mode": {
    "name": "ipython",
    "version": 3
   },
   "file_extension": ".py",
   "mimetype": "text/x-python",
   "name": "python",
   "nbconvert_exporter": "python",
   "pygments_lexer": "ipython3",
   "version": "3.11.0rc1"
  }
 },
 "nbformat": 4,
 "nbformat_minor": 4
}

